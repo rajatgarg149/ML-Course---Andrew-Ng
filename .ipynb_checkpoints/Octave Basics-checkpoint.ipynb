{
 "cells": [
  {
   "cell_type": "markdown",
   "metadata": {},
   "source": [
    "### Vectors and Matrices"
   ]
  },
  {
   "cell_type": "code",
   "execution_count": 3,
   "metadata": {
    "collapsed": false
   },
   "outputs": [
    {
     "name": "stdout",
     "output_type": "stream",
     "text": [
      "   2   4\n",
      "   5   6\n"
     ]
    }
   ],
   "source": [
    "#Matrix A\n",
    "A = [2,4;5,6];\n",
    "disp(A)"
   ]
  },
  {
   "cell_type": "code",
   "execution_count": 4,
   "metadata": {
    "collapsed": false
   },
   "outputs": [
    {
     "name": "stdout",
     "output_type": "stream",
     "text": [
      "   1\n",
      "   4\n",
      "   5\n",
      "   6\n",
      "   7\n"
     ]
    }
   ],
   "source": [
    "#Vector v\n",
    "v = [1;4;5;6;7];\n",
    "disp(v)"
   ]
  },
  {
   "cell_type": "code",
   "execution_count": 7,
   "metadata": {
    "collapsed": false
   },
   "outputs": [
    {
     "name": "stdout",
     "output_type": "stream",
     "text": [
      "   10   22   32\n",
      "   17   39   56\n"
     ]
    }
   ],
   "source": [
    "%Matrix Multiplication\n",
    "B = [1,3,4;2,4,6];\n",
    "disp(A*B)"
   ]
  },
  {
   "cell_type": "code",
   "execution_count": 21,
   "metadata": {
    "collapsed": false
   },
   "outputs": [
    {
     "name": "stdout",
     "output_type": "stream",
     "text": [
      "  -0.75000   0.50000\n",
      "   0.62500  -0.25000\n"
     ]
    }
   ],
   "source": [
    "%Inverse of A(matrix A must be a non-singular square matrix)\n",
    "disp(pinv(A))"
   ]
  },
  {
   "cell_type": "code",
   "execution_count": 11,
   "metadata": {
    "collapsed": false
   },
   "outputs": [
    {
     "name": "stdout",
     "output_type": "stream",
     "text": [
      "   1   2\n",
      "   3   4\n",
      "   4   6\n"
     ]
    }
   ],
   "source": [
    "%Transpose of B\n",
    "disp(B')"
   ]
  },
  {
   "cell_type": "code",
   "execution_count": 15,
   "metadata": {
    "collapsed": false
   },
   "outputs": [
    {
     "name": "stdout",
     "output_type": "stream",
     "text": [
      "Matrix A\n",
      "   2   4\n",
      "   5   6\n",
      "Matrix C\n",
      "   1   7\n",
      "   2   6\n",
      "Element-wise product\n",
      "    2   28\n",
      "   10   36\n"
     ]
    }
   ],
   "source": [
    "#Matrix C\n",
    "C = [1,7;2,6];\n",
    "%Elementwise product(dot product) of A and C\n",
    "disp('Matrix A')\n",
    "disp(A)\n",
    "disp('Matrix C')\n",
    "disp(C)\n",
    "disp('Element-wise product')\n",
    "disp(A.*C)"
   ]
  },
  {
   "cell_type": "code",
   "execution_count": 17,
   "metadata": {
    "collapsed": false
   },
   "outputs": [
    {
     "name": "stdout",
     "output_type": "stream",
     "text": [
      " 76\n"
     ]
    }
   ],
   "source": [
    "%to get dot product\n",
    "disp(sum(sum(A.*C)))"
   ]
  },
  {
   "cell_type": "code",
   "execution_count": 23,
   "metadata": {
    "collapsed": false
   },
   "outputs": [
    {
     "name": "stdout",
     "output_type": "stream",
     "text": [
      "   0.50000   0.25000\n",
      "   0.20000   0.16667\n"
     ]
    }
   ],
   "source": [
    "%Element-wise reciprocal of A\n",
    "disp(1./A)"
   ]
  },
  {
   "cell_type": "code",
   "execution_count": 24,
   "metadata": {
    "collapsed": false
   },
   "outputs": [
    {
     "name": "stdout",
     "output_type": "stream",
     "text": [
      "    4   16\n",
      "   25   36\n"
     ]
    }
   ],
   "source": [
    "%Element-wise power 2 of A\n",
    "disp(A.^2)"
   ]
  },
  {
   "cell_type": "code",
   "execution_count": 25,
   "metadata": {
    "collapsed": false
   },
   "outputs": [
    {
     "name": "stdout",
     "output_type": "stream",
     "text": [
      "Log\n",
      "   0.69315   1.38629\n",
      "   1.60944   1.79176\n",
      "Exp\n",
      "     7.3891    54.5982\n",
      "   148.4132   403.4288\n"
     ]
    }
   ],
   "source": [
    "%Element-wise functional operation\n",
    "disp('Log')\n",
    "disp(log(A))\n",
    "disp('Exp')\n",
    "disp(exp(A))"
   ]
  },
  {
   "cell_type": "code",
   "execution_count": 31,
   "metadata": {
    "collapsed": false
   },
   "outputs": [
    {
     "name": "stdout",
     "output_type": "stream",
     "text": [
      "   17   24    1    8   15\n",
      "   23    5    7   14   16\n",
      "    4    6   13   20   22\n",
      "   10   12   19   21    3\n",
      "   11   18   25    2    9\n"
     ]
    }
   ],
   "source": [
    "%Magic matrix(matrix with sums along all rows, columns and diagonal are same)\n",
    "magic_M = magic(5);\n",
    "disp(magic_M)"
   ]
  },
  {
   "cell_type": "markdown",
   "metadata": {},
   "source": [
    "### Plotting"
   ]
  },
  {
   "cell_type": "code",
   "execution_count": 27,
   "metadata": {
    "collapsed": false
   },
   "outputs": [
    {
     "data": {
      "image/png": "[encoded data removed]",
      "text/plain": [
       "<IPython.core.display.Image object>"
      ]
     },
     "metadata": {},
     "output_type": "display_data"
    }
   ],
   "source": [
    "t = [0:0.01:0.98];\n",
    "y = sin(2*pi*8*t);\n",
    "plot(t,y);"
   ]
  },
  {
   "cell_type": "code",
   "execution_count": 34,
   "metadata": {
    "collapsed": false
   },
   "outputs": [
    {
     "data": {
      "image/png": "[encoded data removed]",
      "text/plain": [
       "<IPython.core.display.Image object>"
      ]
     },
     "metadata": {},
     "output_type": "display_data"
    }
   ],
   "source": [
    "%to plot another plot in the same figure\n",
    "y1 = cos(2*pi*8*t);\n",
    "plot(t,y);\n",
    "hold on;      # <-----\n",
    "plot(t,y1,'r');"
   ]
  },
  {
   "cell_type": "code",
   "execution_count": 35,
   "metadata": {
    "collapsed": false
   },
   "outputs": [
    {
     "data": {
      "image/png": "[encoded data removed]",
      "text/plain": [
       "<IPython.core.display.Image object>"
      ]
     },
     "metadata": {},
     "output_type": "display_data"
    }
   ],
   "source": [
    "%Label the plot properly\n",
    "y1 = cos(2*pi*8*t);\n",
    "plot(t,y);\n",
    "hold on;\n",
    "plot(t,y1,'r');\n",
    "xlabel('time');\n",
    "ylabel('value');\n",
    "legend('Sin', 'Cosine');\n",
    "title('Phase difference of pi/2');"
   ]
  },
  {
   "cell_type": "code",
   "execution_count": 39,
   "metadata": {
    "collapsed": false
   },
   "outputs": [
    {
     "data": {
      "image/png": "[encoded data removed]",
      "text/plain": [
       "<IPython.core.display.Image object>"
      ]
     },
     "metadata": {},
     "output_type": "display_data"
    }
   ],
   "source": [
    "%Subplot(to plot mutliple plots in a grid)\n",
    "subplot(1,2,1);     #  <---- 1,2 : row x column of grid; and 1 to access first element of grid\n",
    "plot(t,y1,'r');\n",
    "subplot(1,2,2);\n",
    "plot(t,y)"
   ]
  },
  {
   "cell_type": "code",
   "execution_count": 45,
   "metadata": {
    "collapsed": false
   },
   "outputs": [
    {
     "data": {
      "image/png": "[encoded data removed]",
      "text/plain": [
       "<IPython.core.display.Image object>"
      ]
     },
     "metadata": {},
     "output_type": "display_data"
    }
   ],
   "source": [
    "%axis of plot\n",
    "subplot(1,2,1);     \n",
    "plot(t,y1,'r');\n",
    "axis([-0.25 1.25 -1 1]);  #  <---- -025 1.25 : horizontal axis; -1 1 : vertical axis\n",
    "subplot(1,2,2);\n",
    "plot(t,y)\n",
    "axis([-0.25 1.25 -1 1]);  #  <---- -025 1.25 : horizontal axis; -1 1 : vertical axis"
   ]
  },
  {
   "cell_type": "code",
   "execution_count": 49,
   "metadata": {
    "collapsed": false
   },
   "outputs": [
    {
     "data": {
      "image/png": "[encoded data removed]",
      "text/plain": [
       "<IPython.core.display.Image object>"
      ]
     },
     "metadata": {},
     "output_type": "display_data"
    }
   ],
   "source": [
    "%Heat Map\n",
    "imagesc(magic_M)"
   ]
  },
  {
   "cell_type": "code",
   "execution_count": 50,
   "metadata": {
    "collapsed": false
   },
   "outputs": [
    {
     "data": {
      "image/png": "[encoded data removed]",
      "text/plain": [
       "<IPython.core.display.Image object>"
      ]
     },
     "metadata": {},
     "output_type": "display_data"
    }
   ],
   "source": [
    "imagesc(magic_M), colorbar, colormap gray;"
   ]
  },
  {
   "cell_type": "markdown",
   "metadata": {},
   "source": [
    "### Loops"
   ]
  },
  {
   "cell_type": "code",
   "execution_count": 52,
   "metadata": {
    "collapsed": false
   },
   "outputs": [
    {
     "name": "stdout",
     "output_type": "stream",
     "text": [
      "      2      4      8     16     32     64    128    256    512   1024\n"
     ]
    }
   ],
   "source": [
    "for i=1:10,\n",
    "    V(i) = 2.^i;   %indentation is not necessary\n",
    "end;\n",
    "disp(V)"
   ]
  },
  {
   "cell_type": "code",
   "execution_count": 53,
   "metadata": {
    "collapsed": false
   },
   "outputs": [
    {
     "name": "stdout",
     "output_type": "stream",
     "text": [
      "i =  1\n",
      "    999    999    999    999    999   -999   -999   -999      0   1024\n"
     ]
    }
   ],
   "source": [
    "i=1\n",
    "while true,\n",
    "    if i < 6,\n",
    "        V(i) = 999;\n",
    "        i = i+1;\n",
    "    elseif i < 9,\n",
    "        V(i) = -999;\n",
    "        i = i+1;\n",
    "    else,\n",
    "        V(i) = 0;\n",
    "        break;\n",
    "    end;\n",
    "end;\n",
    "disp(V)"
   ]
  },
  {
   "cell_type": "markdown",
   "metadata": {},
   "source": [
    "### Functions"
   ]
  },
  {
   "cell_type": "code",
   "execution_count": 70,
   "metadata": {
    "collapsed": true
   },
   "outputs": [],
   "source": [
    "function [y1, y2] = squareandcubeNumber(x)\n",
    "    y1 = x^2;\n",
    "    y2 = x^3;\n",
    "end;"
   ]
  },
  {
   "cell_type": "code",
   "execution_count": 71,
   "metadata": {
    "collapsed": false
   },
   "outputs": [
    {
     "name": "stdout",
     "output_type": "stream",
     "text": [
      " 25\n"
     ]
    }
   ],
   "source": [
    "disp(squareandcubeNumber(5));"
   ]
  },
  {
   "cell_type": "code",
   "execution_count": 72,
   "metadata": {
    "collapsed": false
   },
   "outputs": [
    {
     "name": "stdout",
     "output_type": "stream",
     "text": [
      " 25\n"
     ]
    }
   ],
   "source": [
    "a = squareandcubeNumber(5);\n",
    "disp(a);"
   ]
  },
  {
   "cell_type": "code",
   "execution_count": 73,
   "metadata": {
    "collapsed": false
   },
   "outputs": [
    {
     "name": "stdout",
     "output_type": "stream",
     "text": [
      "    25   125\n"
     ]
    }
   ],
   "source": [
    "[a, b] = squareandcubeNumber(5);\n",
    "disp([a,b]);"
   ]
  },
  {
   "cell_type": "code",
   "execution_count": null,
   "metadata": {
    "collapsed": true
   },
   "outputs": [],
   "source": []
  }
 ],
 "metadata": {
  "kernelspec": {
   "display_name": "Octave",
   "language": "octave",
   "name": "octave"
  },
  "language_info": {
   "file_extension": ".m",
   "help_links": [
    {
     "text": "GNU Octave",
     "url": "https://www.gnu.org/software/octave/support.html"
    },
    {
     "text": "Octave Kernel",
     "url": "https://github.com/Calysto/octave_kernel"
    },
    {
     "text": "MetaKernel Magics",
     "url": "https://github.com/calysto/metakernel/blob/master/metakernel/magics/README.md"
    }
   ],
   "mimetype": "text/x-octave",
   "name": "octave",
   "version": "4.2.2"
  }
 },
 "nbformat": 4,
 "nbformat_minor": 0
}
